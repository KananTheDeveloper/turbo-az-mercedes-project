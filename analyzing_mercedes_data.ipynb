{
 "cells": [
  {
   "cell_type": "code",
   "execution_count": 1,
   "metadata": {},
   "outputs": [],
   "source": [
    "# Importing Necessary Libraries\n",
    "import pandas as pd\n",
    "\n",
    "data = pd.read_csv('scraped_mercedes_data.csv')"
   ]
  },
  {
   "cell_type": "code",
   "execution_count": 2,
   "metadata": {},
   "outputs": [
    {
     "data": {
      "text/html": [
       "<div>\n",
       "<style scoped>\n",
       "    .dataframe tbody tr th:only-of-type {\n",
       "        vertical-align: middle;\n",
       "    }\n",
       "\n",
       "    .dataframe tbody tr th {\n",
       "        vertical-align: top;\n",
       "    }\n",
       "\n",
       "    .dataframe thead th {\n",
       "        text-align: right;\n",
       "    }\n",
       "</style>\n",
       "<table border=\"1\" class=\"dataframe\">\n",
       "  <thead>\n",
       "    <tr style=\"text-align: right;\">\n",
       "      <th></th>\n",
       "      <th>ID</th>\n",
       "      <th>Marka</th>\n",
       "      <th>Model</th>\n",
       "      <th>Buraxılış ili</th>\n",
       "      <th>Şəhər</th>\n",
       "      <th>Qiymət (AZN)</th>\n",
       "      <th>Rəng</th>\n",
       "      <th>Yürüş (km)</th>\n",
       "      <th>Mühərrik (L)</th>\n",
       "      <th>At gücü (a.g)</th>\n",
       "      <th>Benzin tipi</th>\n",
       "      <th>Sürətlər qutusu</th>\n",
       "      <th>Yeni</th>\n",
       "      <th>Vəziyyəti</th>\n",
       "      <th>Baxışların sayı</th>\n",
       "    </tr>\n",
       "  </thead>\n",
       "  <tbody>\n",
       "    <tr>\n",
       "      <th>0</th>\n",
       "      <td>8610295.0</td>\n",
       "      <td>Mercedes</td>\n",
       "      <td>AMG GT 53 4MATIC+</td>\n",
       "      <td>2022</td>\n",
       "      <td>Bakı</td>\n",
       "      <td>318750</td>\n",
       "      <td>Qara</td>\n",
       "      <td>6000</td>\n",
       "      <td>3.0</td>\n",
       "      <td>435</td>\n",
       "      <td>Benzin</td>\n",
       "      <td>Robot</td>\n",
       "      <td>Xeyr</td>\n",
       "      <td>Vuruğu yoxdur, rənglənməyib</td>\n",
       "      <td>4080</td>\n",
       "    </tr>\n",
       "    <tr>\n",
       "      <th>1</th>\n",
       "      <td>8307665.0</td>\n",
       "      <td>Mercedes</td>\n",
       "      <td>S 500 4MATIC</td>\n",
       "      <td>2023</td>\n",
       "      <td>Bakı</td>\n",
       "      <td>349535</td>\n",
       "      <td>Qara</td>\n",
       "      <td>0</td>\n",
       "      <td>3.0</td>\n",
       "      <td>435</td>\n",
       "      <td>Benzin</td>\n",
       "      <td>Avtomat</td>\n",
       "      <td>Bəli</td>\n",
       "      <td>Vuruğu yoxdur, rənglənməyib</td>\n",
       "      <td>1766</td>\n",
       "    </tr>\n",
       "    <tr>\n",
       "      <th>2</th>\n",
       "      <td>8707930.0</td>\n",
       "      <td>Mercedes</td>\n",
       "      <td>GLC 300 e 4MATIC+ Coupe</td>\n",
       "      <td>2021</td>\n",
       "      <td>Bakı</td>\n",
       "      <td>102000</td>\n",
       "      <td>Yaş Asfalt</td>\n",
       "      <td>40000</td>\n",
       "      <td>2.0</td>\n",
       "      <td>320</td>\n",
       "      <td>Plug-in Hibrid</td>\n",
       "      <td>Avtomat</td>\n",
       "      <td>Xeyr</td>\n",
       "      <td>Vuruğu yoxdur, rənglənməyib</td>\n",
       "      <td>2894</td>\n",
       "    </tr>\n",
       "    <tr>\n",
       "      <th>3</th>\n",
       "      <td>8742415.0</td>\n",
       "      <td>Mercedes</td>\n",
       "      <td>E 300 e</td>\n",
       "      <td>2021</td>\n",
       "      <td>Bakı</td>\n",
       "      <td>88400</td>\n",
       "      <td>Göy</td>\n",
       "      <td>30000</td>\n",
       "      <td>2.0</td>\n",
       "      <td>245</td>\n",
       "      <td>Plug-in Hibrid</td>\n",
       "      <td>Avtomat</td>\n",
       "      <td>Xeyr</td>\n",
       "      <td>Vuruğu yoxdur, rənglənməyib</td>\n",
       "      <td>2761</td>\n",
       "    </tr>\n",
       "    <tr>\n",
       "      <th>4</th>\n",
       "      <td>8638855.0</td>\n",
       "      <td>Mercedes</td>\n",
       "      <td>E 350</td>\n",
       "      <td>2022</td>\n",
       "      <td>Bakı</td>\n",
       "      <td>107100</td>\n",
       "      <td>Boz</td>\n",
       "      <td>7000</td>\n",
       "      <td>2.0</td>\n",
       "      <td>300</td>\n",
       "      <td>Benzin</td>\n",
       "      <td>Avtomat</td>\n",
       "      <td>Xeyr</td>\n",
       "      <td>Vuruğu yoxdur, rənglənməyib</td>\n",
       "      <td>1317</td>\n",
       "    </tr>\n",
       "  </tbody>\n",
       "</table>\n",
       "</div>"
      ],
      "text/plain": [
       "          ID     Marka                    Model  Buraxılış ili Şəhər  \\\n",
       "0  8610295.0  Mercedes        AMG GT 53 4MATIC+           2022  Bakı   \n",
       "1  8307665.0  Mercedes             S 500 4MATIC           2023  Bakı   \n",
       "2  8707930.0  Mercedes  GLC 300 e 4MATIC+ Coupe           2021  Bakı   \n",
       "3  8742415.0  Mercedes                  E 300 e           2021  Bakı   \n",
       "4  8638855.0  Mercedes                    E 350           2022  Bakı   \n",
       "\n",
       "   Qiymət (AZN)        Rəng  Yürüş (km)  Mühərrik (L)  At gücü (a.g)  \\\n",
       "0        318750        Qara        6000           3.0            435   \n",
       "1        349535        Qara           0           3.0            435   \n",
       "2        102000  Yaş Asfalt       40000           2.0            320   \n",
       "3         88400         Göy       30000           2.0            245   \n",
       "4        107100         Boz        7000           2.0            300   \n",
       "\n",
       "      Benzin tipi Sürətlər qutusu  Yeni                    Vəziyyəti  \\\n",
       "0          Benzin           Robot  Xeyr  Vuruğu yoxdur, rənglənməyib   \n",
       "1          Benzin         Avtomat  Bəli  Vuruğu yoxdur, rənglənməyib   \n",
       "2  Plug-in Hibrid         Avtomat  Xeyr  Vuruğu yoxdur, rənglənməyib   \n",
       "3  Plug-in Hibrid         Avtomat  Xeyr  Vuruğu yoxdur, rənglənməyib   \n",
       "4          Benzin         Avtomat  Xeyr  Vuruğu yoxdur, rənglənməyib   \n",
       "\n",
       "   Baxışların sayı  \n",
       "0             4080  \n",
       "1             1766  \n",
       "2             2894  \n",
       "3             2761  \n",
       "4             1317  "
      ]
     },
     "execution_count": 2,
     "metadata": {},
     "output_type": "execute_result"
    }
   ],
   "source": [
    "# Displaying the First Few Rows of Data\n",
    "data.head()"
   ]
  },
  {
   "cell_type": "code",
   "execution_count": 3,
   "metadata": {},
   "outputs": [
    {
     "data": {
      "text/plain": [
       "(11321, 15)"
      ]
     },
     "execution_count": 3,
     "metadata": {},
     "output_type": "execute_result"
    }
   ],
   "source": [
    "# Checking the Shape of the Dataset\n",
    "data.shape"
   ]
  },
  {
   "cell_type": "code",
   "execution_count": 4,
   "metadata": {},
   "outputs": [
    {
     "data": {
      "text/plain": [
       "7533"
      ]
     },
     "execution_count": 4,
     "metadata": {},
     "output_type": "execute_result"
    }
   ],
   "source": [
    "# Counting Unique IDs in the Dataset\n",
    "data['ID'].nunique()"
   ]
  },
  {
   "cell_type": "code",
   "execution_count": 5,
   "metadata": {},
   "outputs": [
    {
     "data": {
      "text/plain": [
       "ID                 18\n",
       "Marka               0\n",
       "Model               0\n",
       "Buraxılış ili       0\n",
       "Şəhər               0\n",
       "Qiymət (AZN)        0\n",
       "Rəng                0\n",
       "Yürüş (km)          0\n",
       "Mühərrik (L)        0\n",
       "At gücü (a.g)       0\n",
       "Benzin tipi         0\n",
       "Sürətlər qutusu     0\n",
       "Yeni                0\n",
       "Vəziyyəti           0\n",
       "Baxışların sayı     0\n",
       "dtype: int64"
      ]
     },
     "execution_count": 5,
     "metadata": {},
     "output_type": "execute_result"
    }
   ],
   "source": [
    "# Checking for Missing Values\n",
    "data.isna().sum()"
   ]
  },
  {
   "cell_type": "code",
   "execution_count": 6,
   "metadata": {},
   "outputs": [
    {
     "name": "stdout",
     "output_type": "stream",
     "text": [
      "<class 'pandas.core.frame.DataFrame'>\n",
      "RangeIndex: 11321 entries, 0 to 11320\n",
      "Data columns (total 15 columns):\n",
      " #   Column           Non-Null Count  Dtype  \n",
      "---  ------           --------------  -----  \n",
      " 0   ID               11303 non-null  float64\n",
      " 1   Marka            11321 non-null  object \n",
      " 2   Model            11321 non-null  object \n",
      " 3   Buraxılış ili    11321 non-null  int64  \n",
      " 4   Şəhər            11321 non-null  object \n",
      " 5   Qiymət (AZN)     11321 non-null  int64  \n",
      " 6   Rəng             11321 non-null  object \n",
      " 7   Yürüş (km)       11321 non-null  int64  \n",
      " 8   Mühərrik (L)     11321 non-null  float64\n",
      " 9   At gücü (a.g)    11321 non-null  int64  \n",
      " 10  Benzin tipi      11321 non-null  object \n",
      " 11  Sürətlər qutusu  11321 non-null  object \n",
      " 12  Yeni             11321 non-null  object \n",
      " 13  Vəziyyəti        11321 non-null  object \n",
      " 14  Baxışların sayı  11321 non-null  int64  \n",
      "dtypes: float64(2), int64(5), object(8)\n",
      "memory usage: 1.3+ MB\n"
     ]
    }
   ],
   "source": [
    "# Getting an Overview of the Data\n",
    "data.info()"
   ]
  },
  {
   "cell_type": "code",
   "execution_count": 7,
   "metadata": {},
   "outputs": [],
   "source": [
    "# Dropping Rows with Missing Values\n",
    "data = data.dropna()"
   ]
  },
  {
   "cell_type": "code",
   "execution_count": 8,
   "metadata": {},
   "outputs": [
    {
     "data": {
      "text/plain": [
       "ID                 0\n",
       "Marka              0\n",
       "Model              0\n",
       "Buraxılış ili      0\n",
       "Şəhər              0\n",
       "Qiymət (AZN)       0\n",
       "Rəng               0\n",
       "Yürüş (km)         0\n",
       "Mühərrik (L)       0\n",
       "At gücü (a.g)      0\n",
       "Benzin tipi        0\n",
       "Sürətlər qutusu    0\n",
       "Yeni               0\n",
       "Vəziyyəti          0\n",
       "Baxışların sayı    0\n",
       "dtype: int64"
      ]
     },
     "execution_count": 8,
     "metadata": {},
     "output_type": "execute_result"
    }
   ],
   "source": [
    "# Verifying Missing Values are Dropped\n",
    "data.isna().sum()"
   ]
  },
  {
   "cell_type": "code",
   "execution_count": 9,
   "metadata": {},
   "outputs": [
    {
     "data": {
      "text/plain": [
       "(11303, 15)"
      ]
     },
     "execution_count": 9,
     "metadata": {},
     "output_type": "execute_result"
    }
   ],
   "source": [
    "# Checking the Shape After Dropping Missing Values\n",
    "data.shape"
   ]
  },
  {
   "cell_type": "code",
   "execution_count": 10,
   "metadata": {},
   "outputs": [
    {
     "data": {
      "text/plain": [
       "ID\n",
       "8391001.0    24\n",
       "8610295.0    22\n",
       "8698230.0    20\n",
       "8303840.0    20\n",
       "8638855.0    18\n",
       "             ..\n",
       "8725511.0     3\n",
       "8711208.0     3\n",
       "8671199.0     3\n",
       "8678550.0     3\n",
       "8732873.0     2\n",
       "Name: count, Length: 436, dtype: int64"
      ]
     },
     "execution_count": 10,
     "metadata": {},
     "output_type": "execute_result"
    }
   ],
   "source": [
    "# Finding Duplicate IDs\n",
    "duplicate_ids = data['ID'].value_counts()\n",
    "duplicate_ids[duplicate_ids > 1]"
   ]
  },
  {
   "cell_type": "code",
   "execution_count": 11,
   "metadata": {},
   "outputs": [],
   "source": [
    "# Updating Data with Dropping Duplicate IDs\n",
    "data = data.drop_duplicates(subset='ID', keep='first')"
   ]
  },
  {
   "cell_type": "code",
   "execution_count": 12,
   "metadata": {},
   "outputs": [
    {
     "data": {
      "text/plain": [
       "(7533, 15)"
      ]
     },
     "execution_count": 12,
     "metadata": {},
     "output_type": "execute_result"
    }
   ],
   "source": [
    "# Checking the Shape\n",
    "data.shape"
   ]
  },
  {
   "cell_type": "code",
   "execution_count": 13,
   "metadata": {},
   "outputs": [],
   "source": [
    "# Updating Column Names\n",
    "data.columns = ['id', 'marka', 'model', 'buraxilish_ili', 'sheher', 'qiymet', \n",
    "                'reng', 'yurush', 'muherrik_hecmi', 'at_gucu', 'benzin_tipi', \n",
    "                'suretler_qutusu', 'yeni', 'veziyyeti', 'elana_baxish_sayi']"
   ]
  },
  {
   "cell_type": "code",
   "execution_count": 14,
   "metadata": {},
   "outputs": [
    {
     "data": {
      "text/html": [
       "<div>\n",
       "<style scoped>\n",
       "    .dataframe tbody tr th:only-of-type {\n",
       "        vertical-align: middle;\n",
       "    }\n",
       "\n",
       "    .dataframe tbody tr th {\n",
       "        vertical-align: top;\n",
       "    }\n",
       "\n",
       "    .dataframe thead th {\n",
       "        text-align: right;\n",
       "    }\n",
       "</style>\n",
       "<table border=\"1\" class=\"dataframe\">\n",
       "  <thead>\n",
       "    <tr style=\"text-align: right;\">\n",
       "      <th></th>\n",
       "      <th>id</th>\n",
       "      <th>marka</th>\n",
       "      <th>model</th>\n",
       "      <th>buraxilish_ili</th>\n",
       "      <th>sheher</th>\n",
       "      <th>qiymet</th>\n",
       "      <th>reng</th>\n",
       "      <th>yurush</th>\n",
       "      <th>muherrik_hecmi</th>\n",
       "      <th>at_gucu</th>\n",
       "      <th>benzin_tipi</th>\n",
       "      <th>suretler_qutusu</th>\n",
       "      <th>yeni</th>\n",
       "      <th>veziyyeti</th>\n",
       "      <th>elana_baxish_sayi</th>\n",
       "    </tr>\n",
       "  </thead>\n",
       "  <tbody>\n",
       "    <tr>\n",
       "      <th>0</th>\n",
       "      <td>8610295.0</td>\n",
       "      <td>Mercedes</td>\n",
       "      <td>AMG GT 53 4MATIC+</td>\n",
       "      <td>2022</td>\n",
       "      <td>Bakı</td>\n",
       "      <td>318750</td>\n",
       "      <td>Qara</td>\n",
       "      <td>6000</td>\n",
       "      <td>3.0</td>\n",
       "      <td>435</td>\n",
       "      <td>Benzin</td>\n",
       "      <td>Robot</td>\n",
       "      <td>Xeyr</td>\n",
       "      <td>Vuruğu yoxdur, rənglənməyib</td>\n",
       "      <td>4080</td>\n",
       "    </tr>\n",
       "    <tr>\n",
       "      <th>1</th>\n",
       "      <td>8307665.0</td>\n",
       "      <td>Mercedes</td>\n",
       "      <td>S 500 4MATIC</td>\n",
       "      <td>2023</td>\n",
       "      <td>Bakı</td>\n",
       "      <td>349535</td>\n",
       "      <td>Qara</td>\n",
       "      <td>0</td>\n",
       "      <td>3.0</td>\n",
       "      <td>435</td>\n",
       "      <td>Benzin</td>\n",
       "      <td>Avtomat</td>\n",
       "      <td>Bəli</td>\n",
       "      <td>Vuruğu yoxdur, rənglənməyib</td>\n",
       "      <td>1766</td>\n",
       "    </tr>\n",
       "    <tr>\n",
       "      <th>2</th>\n",
       "      <td>8707930.0</td>\n",
       "      <td>Mercedes</td>\n",
       "      <td>GLC 300 e 4MATIC+ Coupe</td>\n",
       "      <td>2021</td>\n",
       "      <td>Bakı</td>\n",
       "      <td>102000</td>\n",
       "      <td>Yaş Asfalt</td>\n",
       "      <td>40000</td>\n",
       "      <td>2.0</td>\n",
       "      <td>320</td>\n",
       "      <td>Plug-in Hibrid</td>\n",
       "      <td>Avtomat</td>\n",
       "      <td>Xeyr</td>\n",
       "      <td>Vuruğu yoxdur, rənglənməyib</td>\n",
       "      <td>2894</td>\n",
       "    </tr>\n",
       "    <tr>\n",
       "      <th>3</th>\n",
       "      <td>8742415.0</td>\n",
       "      <td>Mercedes</td>\n",
       "      <td>E 300 e</td>\n",
       "      <td>2021</td>\n",
       "      <td>Bakı</td>\n",
       "      <td>88400</td>\n",
       "      <td>Göy</td>\n",
       "      <td>30000</td>\n",
       "      <td>2.0</td>\n",
       "      <td>245</td>\n",
       "      <td>Plug-in Hibrid</td>\n",
       "      <td>Avtomat</td>\n",
       "      <td>Xeyr</td>\n",
       "      <td>Vuruğu yoxdur, rənglənməyib</td>\n",
       "      <td>2761</td>\n",
       "    </tr>\n",
       "    <tr>\n",
       "      <th>4</th>\n",
       "      <td>8638855.0</td>\n",
       "      <td>Mercedes</td>\n",
       "      <td>E 350</td>\n",
       "      <td>2022</td>\n",
       "      <td>Bakı</td>\n",
       "      <td>107100</td>\n",
       "      <td>Boz</td>\n",
       "      <td>7000</td>\n",
       "      <td>2.0</td>\n",
       "      <td>300</td>\n",
       "      <td>Benzin</td>\n",
       "      <td>Avtomat</td>\n",
       "      <td>Xeyr</td>\n",
       "      <td>Vuruğu yoxdur, rənglənməyib</td>\n",
       "      <td>1317</td>\n",
       "    </tr>\n",
       "  </tbody>\n",
       "</table>\n",
       "</div>"
      ],
      "text/plain": [
       "          id     marka                    model  buraxilish_ili sheher  \\\n",
       "0  8610295.0  Mercedes        AMG GT 53 4MATIC+            2022   Bakı   \n",
       "1  8307665.0  Mercedes             S 500 4MATIC            2023   Bakı   \n",
       "2  8707930.0  Mercedes  GLC 300 e 4MATIC+ Coupe            2021   Bakı   \n",
       "3  8742415.0  Mercedes                  E 300 e            2021   Bakı   \n",
       "4  8638855.0  Mercedes                    E 350            2022   Bakı   \n",
       "\n",
       "   qiymet        reng  yurush  muherrik_hecmi  at_gucu     benzin_tipi  \\\n",
       "0  318750        Qara    6000             3.0      435          Benzin   \n",
       "1  349535        Qara       0             3.0      435          Benzin   \n",
       "2  102000  Yaş Asfalt   40000             2.0      320  Plug-in Hibrid   \n",
       "3   88400         Göy   30000             2.0      245  Plug-in Hibrid   \n",
       "4  107100         Boz    7000             2.0      300          Benzin   \n",
       "\n",
       "  suretler_qutusu  yeni                    veziyyeti  elana_baxish_sayi  \n",
       "0           Robot  Xeyr  Vuruğu yoxdur, rənglənməyib               4080  \n",
       "1         Avtomat  Bəli  Vuruğu yoxdur, rənglənməyib               1766  \n",
       "2         Avtomat  Xeyr  Vuruğu yoxdur, rənglənməyib               2894  \n",
       "3         Avtomat  Xeyr  Vuruğu yoxdur, rənglənməyib               2761  \n",
       "4         Avtomat  Xeyr  Vuruğu yoxdur, rənglənməyib               1317  "
      ]
     },
     "execution_count": 14,
     "metadata": {},
     "output_type": "execute_result"
    }
   ],
   "source": [
    "# Displaying the First Few Rows of Data\n",
    "data.head()"
   ]
  },
  {
   "cell_type": "code",
   "execution_count": 15,
   "metadata": {},
   "outputs": [],
   "source": [
    "# Type Conversion of ID Column from FLOAT to INT\n",
    "data['id'] = data['id'].astype(int)"
   ]
  },
  {
   "cell_type": "code",
   "execution_count": 16,
   "metadata": {},
   "outputs": [
    {
     "data": {
      "text/plain": [
       "id                     int64\n",
       "marka                 object\n",
       "model                 object\n",
       "buraxilish_ili         int64\n",
       "sheher                object\n",
       "qiymet                 int64\n",
       "reng                  object\n",
       "yurush                 int64\n",
       "muherrik_hecmi       float64\n",
       "at_gucu                int64\n",
       "benzin_tipi           object\n",
       "suretler_qutusu       object\n",
       "yeni                  object\n",
       "veziyyeti             object\n",
       "elana_baxish_sayi      int64\n",
       "dtype: object"
      ]
     },
     "execution_count": 16,
     "metadata": {},
     "output_type": "execute_result"
    }
   ],
   "source": [
    "# Checking the Data Types of Columns\n",
    "data.dtypes"
   ]
  },
  {
   "cell_type": "code",
   "execution_count": 17,
   "metadata": {},
   "outputs": [
    {
     "data": {
      "text/html": [
       "<div>\n",
       "<style scoped>\n",
       "    .dataframe tbody tr th:only-of-type {\n",
       "        vertical-align: middle;\n",
       "    }\n",
       "\n",
       "    .dataframe tbody tr th {\n",
       "        vertical-align: top;\n",
       "    }\n",
       "\n",
       "    .dataframe thead th {\n",
       "        text-align: right;\n",
       "    }\n",
       "</style>\n",
       "<table border=\"1\" class=\"dataframe\">\n",
       "  <thead>\n",
       "    <tr style=\"text-align: right;\">\n",
       "      <th></th>\n",
       "      <th>id</th>\n",
       "      <th>marka</th>\n",
       "      <th>model</th>\n",
       "      <th>buraxilish_ili</th>\n",
       "      <th>sheher</th>\n",
       "      <th>qiymet</th>\n",
       "      <th>reng</th>\n",
       "      <th>yurush</th>\n",
       "      <th>muherrik_hecmi</th>\n",
       "      <th>at_gucu</th>\n",
       "      <th>benzin_tipi</th>\n",
       "      <th>suretler_qutusu</th>\n",
       "      <th>yeni</th>\n",
       "      <th>veziyyeti</th>\n",
       "      <th>elana_baxish_sayi</th>\n",
       "    </tr>\n",
       "  </thead>\n",
       "  <tbody>\n",
       "    <tr>\n",
       "      <th>0</th>\n",
       "      <td>8610295</td>\n",
       "      <td>Mercedes</td>\n",
       "      <td>AMG GT 53 4MATIC+</td>\n",
       "      <td>2022</td>\n",
       "      <td>Bakı</td>\n",
       "      <td>318750</td>\n",
       "      <td>Qara</td>\n",
       "      <td>6000</td>\n",
       "      <td>3.0</td>\n",
       "      <td>435</td>\n",
       "      <td>Benzin</td>\n",
       "      <td>Robot</td>\n",
       "      <td>Xeyr</td>\n",
       "      <td>Vuruğu yoxdur, rənglənməyib</td>\n",
       "      <td>4080</td>\n",
       "    </tr>\n",
       "    <tr>\n",
       "      <th>1</th>\n",
       "      <td>8307665</td>\n",
       "      <td>Mercedes</td>\n",
       "      <td>S 500 4MATIC</td>\n",
       "      <td>2023</td>\n",
       "      <td>Bakı</td>\n",
       "      <td>349535</td>\n",
       "      <td>Qara</td>\n",
       "      <td>0</td>\n",
       "      <td>3.0</td>\n",
       "      <td>435</td>\n",
       "      <td>Benzin</td>\n",
       "      <td>Avtomat</td>\n",
       "      <td>Bəli</td>\n",
       "      <td>Vuruğu yoxdur, rənglənməyib</td>\n",
       "      <td>1766</td>\n",
       "    </tr>\n",
       "    <tr>\n",
       "      <th>2</th>\n",
       "      <td>8707930</td>\n",
       "      <td>Mercedes</td>\n",
       "      <td>GLC 300 e 4MATIC+ Coupe</td>\n",
       "      <td>2021</td>\n",
       "      <td>Bakı</td>\n",
       "      <td>102000</td>\n",
       "      <td>Yaş Asfalt</td>\n",
       "      <td>40000</td>\n",
       "      <td>2.0</td>\n",
       "      <td>320</td>\n",
       "      <td>Plug-in Hibrid</td>\n",
       "      <td>Avtomat</td>\n",
       "      <td>Xeyr</td>\n",
       "      <td>Vuruğu yoxdur, rənglənməyib</td>\n",
       "      <td>2894</td>\n",
       "    </tr>\n",
       "    <tr>\n",
       "      <th>3</th>\n",
       "      <td>8742415</td>\n",
       "      <td>Mercedes</td>\n",
       "      <td>E 300 e</td>\n",
       "      <td>2021</td>\n",
       "      <td>Bakı</td>\n",
       "      <td>88400</td>\n",
       "      <td>Göy</td>\n",
       "      <td>30000</td>\n",
       "      <td>2.0</td>\n",
       "      <td>245</td>\n",
       "      <td>Plug-in Hibrid</td>\n",
       "      <td>Avtomat</td>\n",
       "      <td>Xeyr</td>\n",
       "      <td>Vuruğu yoxdur, rənglənməyib</td>\n",
       "      <td>2761</td>\n",
       "    </tr>\n",
       "    <tr>\n",
       "      <th>4</th>\n",
       "      <td>8638855</td>\n",
       "      <td>Mercedes</td>\n",
       "      <td>E 350</td>\n",
       "      <td>2022</td>\n",
       "      <td>Bakı</td>\n",
       "      <td>107100</td>\n",
       "      <td>Boz</td>\n",
       "      <td>7000</td>\n",
       "      <td>2.0</td>\n",
       "      <td>300</td>\n",
       "      <td>Benzin</td>\n",
       "      <td>Avtomat</td>\n",
       "      <td>Xeyr</td>\n",
       "      <td>Vuruğu yoxdur, rənglənməyib</td>\n",
       "      <td>1317</td>\n",
       "    </tr>\n",
       "  </tbody>\n",
       "</table>\n",
       "</div>"
      ],
      "text/plain": [
       "        id     marka                    model  buraxilish_ili sheher  qiymet  \\\n",
       "0  8610295  Mercedes        AMG GT 53 4MATIC+            2022   Bakı  318750   \n",
       "1  8307665  Mercedes             S 500 4MATIC            2023   Bakı  349535   \n",
       "2  8707930  Mercedes  GLC 300 e 4MATIC+ Coupe            2021   Bakı  102000   \n",
       "3  8742415  Mercedes                  E 300 e            2021   Bakı   88400   \n",
       "4  8638855  Mercedes                    E 350            2022   Bakı  107100   \n",
       "\n",
       "         reng  yurush  muherrik_hecmi  at_gucu     benzin_tipi  \\\n",
       "0        Qara    6000             3.0      435          Benzin   \n",
       "1        Qara       0             3.0      435          Benzin   \n",
       "2  Yaş Asfalt   40000             2.0      320  Plug-in Hibrid   \n",
       "3         Göy   30000             2.0      245  Plug-in Hibrid   \n",
       "4         Boz    7000             2.0      300          Benzin   \n",
       "\n",
       "  suretler_qutusu  yeni                    veziyyeti  elana_baxish_sayi  \n",
       "0           Robot  Xeyr  Vuruğu yoxdur, rənglənməyib               4080  \n",
       "1         Avtomat  Bəli  Vuruğu yoxdur, rənglənməyib               1766  \n",
       "2         Avtomat  Xeyr  Vuruğu yoxdur, rənglənməyib               2894  \n",
       "3         Avtomat  Xeyr  Vuruğu yoxdur, rənglənməyib               2761  \n",
       "4         Avtomat  Xeyr  Vuruğu yoxdur, rənglənməyib               1317  "
      ]
     },
     "execution_count": 17,
     "metadata": {},
     "output_type": "execute_result"
    }
   ],
   "source": [
    "# Displaying the First Few Rows of Data\n",
    "data.head()"
   ]
  },
  {
   "cell_type": "code",
   "execution_count": 18,
   "metadata": {},
   "outputs": [],
   "source": [
    "# Writing the Analyzed and Cleaned Data to new csv file\n",
    "data.to_csv('cleaned_mercedes_data.csv', index=False)"
   ]
  }
 ],
 "metadata": {
  "kernelspec": {
   "display_name": "Python 3",
   "language": "python",
   "name": "python3"
  },
  "language_info": {
   "codemirror_mode": {
    "name": "ipython",
    "version": 3
   },
   "file_extension": ".py",
   "mimetype": "text/x-python",
   "name": "python",
   "nbconvert_exporter": "python",
   "pygments_lexer": "ipython3",
   "version": "3.12.4"
  }
 },
 "nbformat": 4,
 "nbformat_minor": 2
}
